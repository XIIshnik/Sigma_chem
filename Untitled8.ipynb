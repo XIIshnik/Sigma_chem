{
  "nbformat": 4,
  "nbformat_minor": 0,
  "metadata": {
    "colab": {
      "provenance": []
    },
    "kernelspec": {
      "name": "python3",
      "display_name": "Python 3"
    },
    "language_info": {
      "name": "python"
    }
  },
  "cells": [
    {
      "cell_type": "code",
      "source": [
        "import pandas as pd\n",
        "import numpy as np\n",
        "!pip install pubchempy\n",
        "!pip install requests\n",
        "!pip install beautifulsoup4\n",
        "import pubchempy as pbp\n",
        "import re\n",
        "import requests\n",
        "from bs4 import BeautifulSoup "
      ],
      "metadata": {
        "id": "dj6uLJRMKwtz"
      },
      "execution_count": null,
      "outputs": []
    },
    {
      "cell_type": "code",
      "source": [
        "data = pd.read_csv(r\"C:\\Users\\user\\OneDrive\\Документы\\exp_Zubov\\7.csv\")\n",
        "name = data['Name']\n",
        "norm = data['normalised_name']\n",
        "cid = []\n",
        "for i in range(950):\n",
        "    response = requests.get(url=\"https://en.wikipedia.org/wiki/\" + name[i] )\n",
        "    soup = BeautifulSoup(response.content, 'html.parser')\n",
        "    title = soup.find(id='firstHeading')\n",
        "    a = title.string\n",
        "    name.replace(to_replace = name[i], value = a)\n",
        "    synonyms = pbp.get_synonyms(name[i], 'name')\n",
        "    syn = (' '.join(str(ol) for ol in synonyms))\n",
        "    ci = re.findall(\"'CID': \\d+\", syn)\n",
        "    st = (' '.join(str(j) for j in ci))\n",
        "    vv = re.findall(r'\\d+', st)\n",
        "    if vv == []:\n",
        "        try:\n",
        "            new = pbp.get_compounds(norm[i], 'smiles')  \n",
        "            b = ((' '.join(str(el) for el in new)))\n",
        "            v = re.findall(r'\\d+', b)\n",
        "            fin = int(''.join(v))    \n",
        "            cid.append(fin)\n",
        "        except:\n",
        "            cid.append('NaN')\n",
        "    else:\n",
        "        fin = int(''.join(vv))\n",
        "        cid.append(fin)"
      ],
      "metadata": {
        "id": "mzDzWduXK0gT"
      },
      "execution_count": null,
      "outputs": []
    },
    {
      "cell_type": "code",
      "source": [
        "MyFile = open ('output.txt', 'w')\n",
        "for element in cid:\n",
        "    MyFile.write(str(element))\n",
        "    MyFile.write('\\n')\n",
        "MyFile.close()"
      ],
      "metadata": {
        "id": "Su8SbMk1Ll8O"
      },
      "execution_count": null,
      "outputs": []
    },
    {
      "cell_type": "markdown",
      "source": [
        "Восстановим все данные DOI\n",
        "1. Импорт библиотек"
      ],
      "metadata": {
        "id": "19stjNGWHNly"
      }
    },
    {
      "cell_type": "code",
      "execution_count": null,
      "metadata": {
        "id": "2f6GECSqz4hM"
      },
      "outputs": [],
      "source": [
        "import pandas as pd\n",
        "import numpy as np\n",
        "import requests\n",
        "from bs4 import BeautifulSoup \n",
        "!pip install crossref-commons\n",
        "import crossref_commons.retrieval\n"
      ]
    },
    {
      "cell_type": "markdown",
      "source": [
        "Для ускорения работы скрипта удалим дублирующиеся DOI"
      ],
      "metadata": {
        "id": "f-XwZfooHK65"
      }
    },
    {
      "cell_type": "code",
      "source": [
        "DOI = pd.read_csv('DOI.csv', encoding='latin-1')\n",
        "DO = DOI.drop_duplicates()\n",
        "doi = DO['DOI']\n",
        "doi = doi.reset_index(drop = True)"
      ],
      "metadata": {
        "id": "67CiZxhR0FBK"
      },
      "execution_count": null,
      "outputs": []
    },
    {
      "cell_type": "code",
      "source": [
        "print(DO.shape)"
      ],
      "metadata": {
        "colab": {
          "base_uri": "https://localhost:8080/"
        },
        "id": "oHIPJLby3-lS",
        "outputId": "6d517b7b-fbec-40ea-cfab-ae8e809f4ae0"
      },
      "execution_count": 79,
      "outputs": [
        {
          "output_type": "stream",
          "name": "stdout",
          "text": [
            "(2822, 1)\n"
          ]
        }
      ]
    },
    {
      "cell_type": "markdown",
      "source": [
        "После удаления дупликатов осталось 2822 уникальных строк для которых мы будем искать дату публикации статьи, название журнала и название статьи."
      ],
      "metadata": {
        "id": "quktZtEYHpBy"
      }
    },
    {
      "cell_type": "code",
      "source": [
        "publish_date = []\n",
        "artical_title = []\n",
        "jornal_name = []\n",
        "count = 0\n",
        "for i in range(2822):\n",
        "  try:\n",
        "    tmp = crossref_commons.retrieval.get_publication_as_json(doi[i])\n",
        "    date = tmp['indexed']['date-time']\n",
        "    publ_date = date.split('T')[0]\n",
        "    publish_date.append(publ_date)\n",
        "    titile = tmp['title']\n",
        "    tit = (' '.join(str(ol) for ol in titile))\n",
        "    artical_title.append(tit)\n",
        "    jornal= tmp['short-container-title']\n",
        "    jorn = (' '.join(str(ol) for ol in jornal))\n",
        "    jornal_name.append(jorn)\n",
        "  except:\n",
        "    doi[i] = 'Article not found'\n",
        "    publish_date.append('Article not found')\n",
        "    artical_title.append('Article not found')\n",
        "    jornal_name.append('Article not found')\n",
        "DO['DOI'] = doi\n",
        "DO['Date'] = publish_date\n",
        "DO['Journal'] = jornal_name\n",
        "DO['Title'] = artical_title\n",
        "print(DO)"
      ],
      "metadata": {
        "id": "5ZaMYHkR2Vpv"
      },
      "execution_count": null,
      "outputs": []
    },
    {
      "cell_type": "markdown",
      "source": [
        "Полученные данные запишем в csv файл для дальнейшего использования"
      ],
      "metadata": {
        "id": "aIRjUeG4JpxW"
      }
    },
    {
      "cell_type": "code",
      "source": [
        "DO.to_csv('my_data.csv', index = False)"
      ],
      "metadata": {
        "id": "_RzL5Dvc6INz"
      },
      "execution_count": 84,
      "outputs": []
    }
  ]
}